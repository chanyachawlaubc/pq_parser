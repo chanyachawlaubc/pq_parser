{
 "cells": [
  {
   "cell_type": "code",
   "execution_count": 4,
   "metadata": {},
   "outputs": [
    {
     "name": "stderr",
     "output_type": "stream",
     "text": [
      "/home/sjone9/miniconda3/envs/tf-gpu/lib/python3.9/site-packages/huggingface_hub/file_download.py:1132: FutureWarning: `resume_download` is deprecated and will be removed in version 1.0.0. Downloads always resume when possible. If you want to force a new download, use `force_download=True`.\n",
      "  warnings.warn(\n",
      "100%|██████████| 7070/7070 [09:29<00:00, 12.41it/s]\n"
     ]
    }
   ],
   "source": [
    "import pandas as pd\n",
    "import torch\n",
    "from tqdm import tqdm\n",
    "import torch.nn.functional as F\n",
    "from transformers import AutoTokenizer, AutoModelForSequenceClassification\n",
    "from collections import Counter\n",
    "\n",
    "tokenizer = AutoTokenizer.from_pretrained(\"mrm8488/distilroberta-finetuned-financial-news-sentiment-analysis\")\n",
    "model = AutoModelForSequenceClassification.from_pretrained(\"mrm8488/distilroberta-finetuned-financial-news-sentiment-analysis\")\n",
    "\n",
    "# Check if a GPU is available and if not, use a CPU\n",
    "device = torch.device(\"cuda\" if torch.cuda.is_available() else \"cpu\")\n",
    "\n",
    "# Move the model to the GPU\n",
    "model = model.to(device)\n",
    "\n",
    "df = pd.read_csv('pq_metadata.csv')\n",
    "\n",
    "for index, row in tqdm(df.iterrows(), total=df.shape[0]):\n",
    "    text = row['Full text']\n",
    "    chunk_size = 512\n",
    "    chunks = [text[i:i+chunk_size] for i in range(0, len(text), chunk_size)]\n",
    "\n",
    "    sentiments = []\n",
    "    confidences = []\n",
    "    for chunk in chunks:\n",
    "        inputs = tokenizer(chunk, return_tensors=\"pt\", truncation=True, max_length=512).to(device)\n",
    "        outputs = model(**inputs)\n",
    "        probabilities = F.softmax(outputs.logits, dim=-1)\n",
    "        _, predicted = torch.max(probabilities, 1)\n",
    "        max_prob = torch.max(probabilities)\n",
    "        sentiments.append(predicted.item())\n",
    "        confidences.append(max_prob.item())\n",
    "\n",
    "    # Majority vote for sentiment\n",
    "    counter = Counter(sentiments)\n",
    "    majority_vote_sentiment = counter.most_common(1)[0][0]\n",
    "\n",
    "    # Average confidence for the majority vote sentiment\n",
    "    average_confidence = sum(confidences) / len(confidences)\n",
    "\n",
    "    if majority_vote_sentiment == 0:\n",
    "        df.at[index, 'Sentiment'] = 'Negative'\n",
    "    elif majority_vote_sentiment == 1:\n",
    "        df.at[index, 'Sentiment'] = 'Neutral'\n",
    "    else:\n",
    "        df.at[index, 'Sentiment'] = 'Positive'\n",
    "    df.at[index, 'Probability'] = average_confidence"
   ]
  },
  {
   "cell_type": "code",
   "execution_count": 7,
   "metadata": {},
   "outputs": [],
   "source": [
    "# df.to_csv('pq_metadata_sentiment.csv', index=False, encoding='utf-8')\n",
    "\n",
    "# real_estate_df = df[df['Section'] == 'Real Estate']\n",
    "# real_estate_df.to_csv('real_estate_sentiment.csv', index=False, encoding='utf-8')"
   ]
  }
 ],
 "metadata": {
  "kernelspec": {
   "display_name": "tf-gpu",
   "language": "python",
   "name": "python3"
  },
  "language_info": {
   "codemirror_mode": {
    "name": "ipython",
    "version": 3
   },
   "file_extension": ".py",
   "mimetype": "text/x-python",
   "name": "python",
   "nbconvert_exporter": "python",
   "pygments_lexer": "ipython3",
   "version": "3.9.19"
  }
 },
 "nbformat": 4,
 "nbformat_minor": 2
}
